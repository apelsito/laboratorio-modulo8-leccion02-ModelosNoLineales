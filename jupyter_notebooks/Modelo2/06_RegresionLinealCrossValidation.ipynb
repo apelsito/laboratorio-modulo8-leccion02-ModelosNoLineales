{
 "cells": [
  {
   "cell_type": "markdown",
   "metadata": {},
   "source": [
    "# Laboratorio Regresión Lineal\n"
   ]
  },
  {
   "cell_type": "code",
   "execution_count": 1,
   "metadata": {},
   "outputs": [],
   "source": [
    "# Tratamiento de datos\n",
    "# -----------------------------------------------------------------------\n",
    "import pandas as pd\n",
    "import numpy as np\n",
    "\n",
    "# Visualizaciones\n",
    "# -----------------------------------------------------------------------\n",
    "import seaborn as sns\n",
    "import matplotlib.pyplot as plt\n",
    "from sklearn import tree\n",
    "\n",
    "# Para realizar la regresión lineal y la evaluación del modelo\n",
    "# -----------------------------------------------------------------------\n",
    "from sklearn.linear_model import LinearRegression\n",
    "from sklearn.tree import DecisionTreeRegressor, plot_tree\n",
    "from sklearn.ensemble import RandomForestRegressor\n",
    "from sklearn.model_selection import train_test_split,GridSearchCV\n",
    "from sklearn.metrics import r2_score, mean_squared_error, mean_absolute_error\n",
    "\n",
    "\n",
    "from sklearn.model_selection import KFold,LeaveOneOut, cross_val_score\n",
    "\n",
    "\n",
    "from sklearn.preprocessing import StandardScaler\n",
    "\n",
    "from tqdm import tqdm\n",
    "\n",
    "\n",
    "# Ignorar los warnings\n",
    "# -----------------------------------------------------------------------\n",
    "import warnings\n",
    "warnings.filterwarnings('ignore')\n",
    "\n",
    "pd.options.display.float_format = \"{:,.2f}\".format\n",
    "\n",
    "import sys\n",
    "sys.path.append(\"../../\")\n",
    "from src.soporte_metricas import (\n",
    "    obtener_metricas\n",
    ")"
   ]
  },
  {
   "cell_type": "markdown",
   "metadata": {},
   "source": [
    "# Vamos a realizar Cross Validation\n",
    "Usando el encoding Target\n",
    "- El objetivo es ver si nuestro modelo puede mejorar al realizar varias iteraciones. de la regresión Lineal."
   ]
  },
  {
   "cell_type": "code",
   "execution_count": 2,
   "metadata": {},
   "outputs": [
    {
     "data": {
      "text/html": [
       "<div>\n",
       "<style scoped>\n",
       "    .dataframe tbody tr th:only-of-type {\n",
       "        vertical-align: middle;\n",
       "    }\n",
       "\n",
       "    .dataframe tbody tr th {\n",
       "        vertical-align: top;\n",
       "    }\n",
       "\n",
       "    .dataframe thead th {\n",
       "        text-align: right;\n",
       "    }\n",
       "</style>\n",
       "<table border=\"1\" class=\"dataframe\">\n",
       "  <thead>\n",
       "    <tr style=\"text-align: right;\">\n",
       "      <th></th>\n",
       "      <th>offerType</th>\n",
       "      <th>brand</th>\n",
       "      <th>vehicleType</th>\n",
       "      <th>fuelType</th>\n",
       "      <th>gearbox</th>\n",
       "      <th>notRepairedDamage</th>\n",
       "      <th>kilometer</th>\n",
       "      <th>price</th>\n",
       "      <th>yearOfRegistration</th>\n",
       "      <th>powerCV_robust_scaler</th>\n",
       "    </tr>\n",
       "  </thead>\n",
       "  <tbody>\n",
       "    <tr>\n",
       "      <th>42217</th>\n",
       "      <td>6,621.23</td>\n",
       "      <td>8,910.60</td>\n",
       "      <td>5,641.66</td>\n",
       "      <td>5,850.27</td>\n",
       "      <td>5,308.59</td>\n",
       "      <td>8,033.46</td>\n",
       "      <td>4,091.64</td>\n",
       "      <td>5,899.00</td>\n",
       "      <td>5,626.24</td>\n",
       "      <td>4,679.55</td>\n",
       "    </tr>\n",
       "  </tbody>\n",
       "</table>\n",
       "</div>"
      ],
      "text/plain": [
       "       offerType    brand  vehicleType  fuelType  gearbox  notRepairedDamage  \\\n",
       "42217   6,621.23 8,910.60     5,641.66  5,850.27 5,308.59           8,033.46   \n",
       "\n",
       "       kilometer    price  yearOfRegistration  powerCV_robust_scaler  \n",
       "42217   4,091.64 5,899.00            5,626.24               4,679.55  "
      ]
     },
     "execution_count": 2,
     "metadata": {},
     "output_type": "execute_result"
    }
   ],
   "source": [
    "df = pd.read_csv(\"../../datos/02_Modelo2/06_autorenew_target_encoded.csv\",index_col=0)\n",
    "df.sample()"
   ]
  },
  {
   "cell_type": "code",
   "execution_count": 3,
   "metadata": {},
   "outputs": [],
   "source": [
    "X = df.drop(columns=\"price\")\n",
    "y = df[[\"price\"]]\n",
    "X_train, X_test, y_train, y_test = train_test_split(X, # Todo menos la Variable Respuesta\n",
    "                                                    y, # La variable Respuesta\n",
    "                                                    train_size=0.7, # Como dividir los datos en este caso 80% train, 20% test\n",
    "                                                    random_state=42, # Semilla, para que lo haga igual para cualquier persona\n",
    "                                                    shuffle=True \n",
    "                                                    )\n"
   ]
  },
  {
   "cell_type": "markdown",
   "metadata": {},
   "source": [
    "# Hagamos el modelo Linear y Recapitulemos"
   ]
  },
  {
   "cell_type": "code",
   "execution_count": 4,
   "metadata": {},
   "outputs": [],
   "source": [
    "modelo_lineal = LinearRegression()\n",
    "modelo_lineal.fit(X_train, y_train)\n",
    "y_pred_test = modelo_lineal.predict(X_test)\n",
    "y_pred_train = modelo_lineal.predict(X_train)"
   ]
  },
  {
   "cell_type": "markdown",
   "metadata": {},
   "source": [
    "# Veamos sus métricas"
   ]
  },
  {
   "cell_type": "code",
   "execution_count": 5,
   "metadata": {},
   "outputs": [
    {
     "data": {
      "text/html": [
       "<div>\n",
       "<style scoped>\n",
       "    .dataframe tbody tr th:only-of-type {\n",
       "        vertical-align: middle;\n",
       "    }\n",
       "\n",
       "    .dataframe tbody tr th {\n",
       "        vertical-align: top;\n",
       "    }\n",
       "\n",
       "    .dataframe thead th {\n",
       "        text-align: right;\n",
       "    }\n",
       "</style>\n",
       "<table border=\"1\" class=\"dataframe\">\n",
       "  <thead>\n",
       "    <tr style=\"text-align: right;\">\n",
       "      <th></th>\n",
       "      <th>r2_score</th>\n",
       "      <th>MAE</th>\n",
       "      <th>MSE</th>\n",
       "      <th>RMSE</th>\n",
       "    </tr>\n",
       "  </thead>\n",
       "  <tbody>\n",
       "    <tr>\n",
       "      <th>train</th>\n",
       "      <td>0.32</td>\n",
       "      <td>3,333.05</td>\n",
       "      <td>110,421,009.02</td>\n",
       "      <td>10,508.14</td>\n",
       "    </tr>\n",
       "    <tr>\n",
       "      <th>test</th>\n",
       "      <td>0.15</td>\n",
       "      <td>3,500.09</td>\n",
       "      <td>345,454,299.37</td>\n",
       "      <td>18,586.40</td>\n",
       "    </tr>\n",
       "  </tbody>\n",
       "</table>\n",
       "</div>"
      ],
      "text/plain": [
       "       r2_score      MAE            MSE      RMSE\n",
       "train      0.32 3,333.05 110,421,009.02 10,508.14\n",
       "test       0.15 3,500.09 345,454,299.37 18,586.40"
      ]
     },
     "execution_count": 5,
     "metadata": {},
     "output_type": "execute_result"
    }
   ],
   "source": [
    "obtener_metricas(y_train,y_pred_train,y_test,y_pred_test)"
   ]
  },
  {
   "cell_type": "markdown",
   "metadata": {},
   "source": [
    "### Como vimos anteriormente:\n",
    "- No es viable el error que tenemos ni el R2 es aceptable\n",
    "- Para solucionarlo, vamos a intentar realizar K-Fold Cross Validation\n",
    "### ¿Porque?\n",
    "- Una de las principales causas es que tenemos un conjunto de más de 100.000 datos, lo que lo hace un conjunto moderado de datos, por rendimiento y tiempo empezaremos por este"
   ]
  },
  {
   "cell_type": "code",
   "execution_count": 6,
   "metadata": {},
   "outputs": [
    {
     "data": {
      "text/plain": [
       "(277391, 10)"
      ]
     },
     "execution_count": 6,
     "metadata": {},
     "output_type": "execute_result"
    }
   ],
   "source": [
    "df.shape"
   ]
  },
  {
   "cell_type": "markdown",
   "metadata": {},
   "source": [
    "### ¿Que puedo meter en scoring?\n",
    "\n",
    "- r2\n",
    "- MAE: neg_mean_absolute_error\n",
    "- MSE: neg_mean_squared_error\n",
    "- RMSE: neg_root_mean_squared_error\n",
    "\n"
   ]
  },
  {
   "cell_type": "markdown",
   "metadata": {},
   "source": [
    "# Empecemos calculando el R2\n",
    "- En varias iteraciones veremos si mejora potencialmente\n",
    "### ¿Cuántos splits?\n",
    "- Voy a probar con 5, 50, 100, 500 y 1000, de ahí vemos la media de r2\n"
   ]
  },
  {
   "cell_type": "code",
   "execution_count": 7,
   "metadata": {},
   "outputs": [
    {
     "name": "stderr",
     "output_type": "stream",
     "text": [
      " 20%|██        | 1/5 [00:00<00:01,  3.20it/s]"
     ]
    },
    {
     "name": "stdout",
     "output_type": "stream",
     "text": [
      "r2 en 5 splits: 0.276882145914926\n"
     ]
    },
    {
     "name": "stderr",
     "output_type": "stream",
     "text": [
      " 40%|████      | 2/5 [00:03<00:06,  2.27s/it]"
     ]
    },
    {
     "name": "stdout",
     "output_type": "stream",
     "text": [
      "r2 en 50 splits: 0.40526313317342466\n"
     ]
    },
    {
     "name": "stderr",
     "output_type": "stream",
     "text": [
      " 60%|██████    | 3/5 [00:12<00:09,  4.92s/it]"
     ]
    },
    {
     "name": "stdout",
     "output_type": "stream",
     "text": [
      "r2 en 100 splits: 0.44790704177112967\n"
     ]
    },
    {
     "name": "stderr",
     "output_type": "stream",
     "text": [
      " 80%|████████  | 4/5 [00:48<00:17, 17.55s/it]"
     ]
    },
    {
     "name": "stdout",
     "output_type": "stream",
     "text": [
      "r2 en 500 splits: 0.5240805295976814\n"
     ]
    },
    {
     "name": "stderr",
     "output_type": "stream",
     "text": [
      "100%|██████████| 5/5 [03:34<00:00, 42.91s/it]"
     ]
    },
    {
     "name": "stdout",
     "output_type": "stream",
     "text": [
      "r2 en 1000 splits: 0.5477356320390293\n"
     ]
    },
    {
     "name": "stderr",
     "output_type": "stream",
     "text": [
      "\n"
     ]
    }
   ],
   "source": [
    "splits = [5,50,100,500,1000]\n",
    "for split in tqdm(splits):\n",
    "    kf = KFold(n_splits=split,\n",
    "            shuffle=True,\n",
    "            random_state=42)\n",
    "    score_r2 = cross_val_score(modelo_lineal,\n",
    "                            X,\n",
    "                            y,\n",
    "                            cv=kf,\n",
    "                            scoring=\"r2\")\n",
    "    print(f\"r2 en {split} splits: {np.mean(score_r2)}\")"
   ]
  },
  {
   "cell_type": "markdown",
   "metadata": {},
   "source": [
    "Tarda 2 mins\n",
    "- r2 en 5 splits: 0.33618296668739367\n",
    "- r2 en 50 splits: 0.41857590248457505\n",
    "- r2 en 100 splits: 0.44196576819632055\n",
    "- r2 en 500 splits: 0.5091593582512305\n",
    "- r2 en 1000 splits: 0.5178094658590221"
   ]
  },
  {
   "cell_type": "markdown",
   "metadata": {},
   "source": [
    "Antes de tener decision, veamos el error RMSE y su evolución"
   ]
  },
  {
   "cell_type": "code",
   "execution_count": 8,
   "metadata": {},
   "outputs": [
    {
     "name": "stderr",
     "output_type": "stream",
     "text": [
      " 20%|██        | 1/5 [00:00<00:03,  1.02it/s]"
     ]
    },
    {
     "name": "stdout",
     "output_type": "stream",
     "text": [
      "Error RMSE en 5 splits: -12821.184815220093\n"
     ]
    },
    {
     "name": "stderr",
     "output_type": "stream",
     "text": [
      " 40%|████      | 2/5 [00:12<00:21,  7.18s/it]"
     ]
    },
    {
     "name": "stdout",
     "output_type": "stream",
     "text": [
      "Error RMSE en 50 splits: -11038.142885767007\n"
     ]
    },
    {
     "name": "stderr",
     "output_type": "stream",
     "text": [
      " 60%|██████    | 3/5 [00:32<00:25, 12.93s/it]"
     ]
    },
    {
     "name": "stdout",
     "output_type": "stream",
     "text": [
      "Error RMSE en 100 splits: -10207.229035287917\n"
     ]
    },
    {
     "name": "stderr",
     "output_type": "stream",
     "text": [
      " 80%|████████  | 4/5 [01:09<00:22, 22.70s/it]"
     ]
    },
    {
     "name": "stdout",
     "output_type": "stream",
     "text": [
      "Error RMSE en 500 splits: -8421.19024904322\n"
     ]
    },
    {
     "name": "stderr",
     "output_type": "stream",
     "text": [
      "100%|██████████| 5/5 [02:24<00:00, 28.93s/it]"
     ]
    },
    {
     "name": "stdout",
     "output_type": "stream",
     "text": [
      "Error RMSE en 1000 splits: -7733.165699819967\n"
     ]
    },
    {
     "name": "stderr",
     "output_type": "stream",
     "text": [
      "\n"
     ]
    }
   ],
   "source": [
    "splits = [5,50,100,500,1000]\n",
    "for split in tqdm(splits):\n",
    "    kf = KFold(n_splits=split,\n",
    "            shuffle=True,\n",
    "            random_state=42)\n",
    "    score_rmse = cross_val_score(modelo_lineal,\n",
    "                            X,\n",
    "                            y,\n",
    "                            cv=kf,\n",
    "                            scoring=\"neg_root_mean_squared_error\")\n",
    "    print(f\"Error RMSE en {split} splits: {np.mean(score_rmse)}\")"
   ]
  },
  {
   "cell_type": "markdown",
   "metadata": {},
   "source": [
    "Tarda 4 mins\n",
    "- Error RMSE en 5 splits: -12267.559531024217\n",
    "- Error RMSE en 50 splits: -10612.957198951419\n",
    "- Error RMSE en 100 splits: -10273.086514930843\n",
    "- Error RMSE en 500 splits: -8429.755759419888\n",
    "- Error RMSE en 1000 splits: -7765.457287420199"
   ]
  },
  {
   "cell_type": "markdown",
   "metadata": {},
   "source": [
    "# La Realidad\n",
    "- Aún generando grupos de 1000 con los datos, no somos capaces de reducir el error de forma sustancial\n",
    "- Si es verdad que el R2 crece a más grupos, y lo más probable es que siguiera creciendo\n",
    "- Por eso vemos el error RMSE, para saber si nos reduce el error\n",
    "- Y vemos que aún reduciendo el error, una media de 7765€ de error el el precio sigue siendo inaceptable"
   ]
  },
  {
   "cell_type": "markdown",
   "metadata": {},
   "source": [
    "# ¿Entonces?\n",
    "- Vamos a realizar un Decision Tree en el jupyter 07"
   ]
  }
 ],
 "metadata": {
  "kernelspec": {
   "display_name": "Python 3",
   "language": "python",
   "name": "python3"
  },
  "language_info": {
   "codemirror_mode": {
    "name": "ipython",
    "version": 3
   },
   "file_extension": ".py",
   "mimetype": "text/x-python",
   "name": "python",
   "nbconvert_exporter": "python",
   "pygments_lexer": "ipython3",
   "version": "3.11.9"
  }
 },
 "nbformat": 4,
 "nbformat_minor": 2
}
